{
 "cells": [
  {
   "cell_type": "markdown",
   "metadata": {},
   "source": [
    "**Trabalho Final - O dataset IRIS**\n",
    "\n",
    "- Classes:\t            3\n",
    "- Amostras por classe:\t50\n",
    "- Total de amostras\t    150\n",
    "- Dimensionalidade:\t    4\n",
    "- Tipo das features:\t    números reais positivos\n",
    "\n",
    "O conjunto de dados IRIS talvez seja o mais clássico dos conjuntos de testes de algoritmos de **classificação**. Ele divide amostras de plantas em três espécies diferentes e tem, como features, a altura e largura de duas partes da planta: a sépala e as pétalas.\n",
    "\n",
    "Neste trabalho, você deve classificar esse conjunto de dados com pelo menos dois algoritmos. Você deverá analisá-los segundo as métricas de qualidade que julgar relevantes, e utilizar técnicas de busca de hiperparâmetros e validação cruzada para tornar seus resultados mais robustos. As perguntas abaixo guiarão seus trabalhos.\n",
    "\n",
    "Lembre-se de que a qualidade do seu trabalho será medida, principalmente, de acordo com suas explicações e justificativas. O resultado final do seu algoritmo, embora espere-se que seja satisfatório, é menos importante.\n",
    "\n",
    "**Fonte**: http://scikit-learn.org/stable/modules/generated/sklearn.datasets.load_iris.html\n",
    "\n",
    "**Observação**: Gerar gráficos que expliquem e ilustrem o seu problema não é parte obrigatória da resolução do trabalho, mas é um treino bastante recomendado."
   ]
  },
  {
   "cell_type": "code",
   "execution_count": 3,
   "metadata": {},
   "outputs": [
    {
     "data": {
      "text/plain": [
       "array([[5.1, 3.5]])"
      ]
     },
     "execution_count": 3,
     "metadata": {},
     "output_type": "execute_result"
    }
   ],
   "source": [
    "# Execute seu código neste célula, ou em diferentes células, como julgar que ficar \n",
    "# mais organizado.\n",
    "\n",
    "from sklearn import datasets\n",
    "from sklearn.decomposition import PCA\n",
    "\n",
    "iris = datasets.load_iris()\n",
    "X = iris.data[:, :2]  # pegamos as primeiras duas features aqui. Pegue as outras se quiser.\n",
    "y = iris.target\n",
    "\n",
    "y[0] # classe do primeiro elemento\n",
    "X[:1, :] # primeiro elemento a classificar"
   ]
  },
  {
   "cell_type": "markdown",
   "metadata": {},
   "source": [
    "**Após a construção do seu algoritmo, responda às perguntas abaixo:**\n",
    "\n",
    "*Obs: clique duas vezes sobre o texto para habilitar edição*\n",
    "\n",
    "**1) Quais métricas de qualidade você julgou relevantes para a análise dos seus algoritmos? Quais você não julgou relevantes? Explique.**\n",
    "\n",
    "*Nao responda aqui*\n",
    "\n",
    "**2) Que técnica de busca de hiperparâmetros você utilizou? Avalie seus resultados, e explique como a técnica funciona.**\n",
    "\n",
    "*Nao responda aqui*\n",
    "\n",
    "**3) Que técnica de validação cruzada você utilizou? Avalie seus resultados, e explique como a técnica funciona.**\n",
    "\n",
    "*Nao responda aqui*\n",
    "\n",
    "**4) De forma sucinta, resuma o processo de desenvolvimento da solução apresentada, do entendimento do problema à proposta da solução. Descreva os passos de sua análise, e como cada um te ajudou a encontrar sua solução.**\n",
    "\n",
    "*Nao responda aqui*\n"
   ]
  },
  {
   "cell_type": "code",
   "execution_count": null,
   "metadata": {},
   "outputs": [],
   "source": []
  }
 ],
 "metadata": {
  "kernelspec": {
   "display_name": "Python 3",
   "language": "python",
   "name": "python3"
  },
  "language_info": {
   "codemirror_mode": {
    "name": "ipython",
    "version": 3
   },
   "file_extension": ".py",
   "mimetype": "text/x-python",
   "name": "python",
   "nbconvert_exporter": "python",
   "pygments_lexer": "ipython3",
   "version": "3.4.3"
  }
 },
 "nbformat": 4,
 "nbformat_minor": 2
}
