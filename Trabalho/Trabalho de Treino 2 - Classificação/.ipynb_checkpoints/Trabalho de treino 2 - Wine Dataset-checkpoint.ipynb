{
 "cells": [
  {
   "cell_type": "markdown",
   "metadata": {},
   "source": [
    "**Trabalho de Treino 2 - Wine Dataset**\n",
    "\n",
    "- Classes:\t            3\n",
    "- Amostras por classe:\t59,71,48\n",
    "- Total de amostras\t    178\n",
    "- Dimensionalidade:\t    13\n",
    "- Tipo das features:\t    números reais positivos\n",
    "\n",
    "Essa base de dados representa a análise química de vinhos produzidos na mesma região da Itália, mas provenientes de três variedades diferentes de uva. Seria possível, pela análise química, inferir a uva que prodiziu o vinho? Essa é a tarefa que seu **classificador** deve resolver. As features aqui não são descritas, por se tratarem de características químicas do vinho, específicas do domínio.  Utilize pelo menos dois algoritmos e compare-os.\n",
    "\n",
    "**Fontes**: http://scikit-learn.org/stable/modules/generated/sklearn.datasets.load_wine.html\n",
    "https://archive.ics.uci.edu/ml/datasets/wine\n",
    "\n",
    "**Observação**: Gerar gráficos que expliquem e ilustrem o seu problema não é parte obrigatória da resolução do trabalho, mas é um treino bastante recomendado."
   ]
  },
  {
   "cell_type": "code",
   "execution_count": 3,
   "metadata": {},
   "outputs": [
    {
     "data": {
      "text/plain": [
       "array([[1.423e+01, 1.710e+00, 2.430e+00, 1.560e+01, 1.270e+02, 2.800e+00,\n",
       "        3.060e+00, 2.800e-01, 2.290e+00, 5.640e+00, 1.040e+00, 3.920e+00,\n",
       "        1.065e+03]])"
      ]
     },
     "execution_count": 3,
     "metadata": {},
     "output_type": "execute_result"
    }
   ],
   "source": [
    "# Execute seu código neste célula, ou em diferentes células, como julgar que ficar \n",
    "# mais organizado.\n",
    "\n",
    "from sklearn.datasets import load_wine\n",
    "wine = load_wine()\n",
    "wine.target[[10, 80, 140]] # Para as amostras 10, 80 e 140, por exemplo.\n",
    "list(wine.target_names) # Para saber a classe de cada uma dessas amostras.\n",
    "\n",
    "wine.data[:1, :] # Dados do primeiro elemento\n",
    "wine.data[:, :1] # Dados da primeira feature"
   ]
  },
  {
   "cell_type": "markdown",
   "metadata": {},
   "source": [
    "**Após a construção do seu algoritmo, responda às perguntas abaixo:**\n",
    "\n",
    "*Obs: clique duas vezes sobre o texto para habilitar edição*\n",
    "\n",
    "**1) Quais métricas de qualidade você julgou relevantes para a análise dos seus algoritmos? Quais você não julgou relevantes? Explique.**\n",
    "\n",
    "*Nao responda aqui*\n",
    "\n",
    "**2) Que técnica de busca de hiperparâmetros você utilizou? Avalie seus resultados, e explique como a técnica funciona.**\n",
    "\n",
    "*Nao responda aqui*\n",
    "\n",
    "**3) Que técnica de validação cruzada você utilizou? Avalie seus resultados, e explique como a técnica funciona.**\n",
    "\n",
    "*Nao responda aqui*\n",
    "\n",
    "**4) De forma sucinta, resuma o processo de desenvolvimento da solução apresentada, do entendimento do problema à proposta da solução. Descreva os passos de sua análise, e como cada um te ajudou a encontrar sua solução.**\n",
    "\n",
    "*Nao responda aqui*\n"
   ]
  },
  {
   "cell_type": "code",
   "execution_count": null,
   "metadata": {},
   "outputs": [],
   "source": []
  }
 ],
 "metadata": {
  "kernelspec": {
   "display_name": "Python 3",
   "language": "python",
   "name": "python3"
  },
  "language_info": {
   "codemirror_mode": {
    "name": "ipython",
    "version": 3
   },
   "file_extension": ".py",
   "mimetype": "text/x-python",
   "name": "python",
   "nbconvert_exporter": "python",
   "pygments_lexer": "ipython3",
   "version": "3.4.3"
  }
 },
 "nbformat": 4,
 "nbformat_minor": 2
}
