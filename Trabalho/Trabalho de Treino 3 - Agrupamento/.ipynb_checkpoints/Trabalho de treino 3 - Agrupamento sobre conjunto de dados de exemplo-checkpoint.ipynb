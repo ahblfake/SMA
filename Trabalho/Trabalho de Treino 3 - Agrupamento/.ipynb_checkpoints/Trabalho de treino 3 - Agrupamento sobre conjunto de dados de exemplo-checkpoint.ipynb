{
 "cells": [
  {
   "cell_type": "markdown",
   "metadata": {},
   "source": [
    "**Trabalho de treino 3 - Agrupamento sobre conjunto de dados de exemplo**\n",
    "\n",
    "Este trabalho de *agrupamento* não lida com um conjunto de dados real, mas com um exemplo gerado de forma aleatória. Seu algoritmo deve tentar agrupar, da melhor maneira possível, os elementos gerados nesse cluster. Utilize pelo menos dois algoritmos e compare-os.\n",
    "\n",
    "**Fonte**: http://scikit-learn.org/stable/auto_examples/cluster/plot_cluster_comparison.html\n",
    "\n",
    "**Observação**: Gerar gráficos que expliquem e ilustrem o seu problema não é parte obrigatória da resolução do trabalho, mas é um treino bastante recomendado."
   ]
  },
  {
   "cell_type": "code",
   "execution_count": 4,
   "metadata": {},
   "outputs": [
    {
     "data": {
      "text/plain": [
       "2"
      ]
     },
     "execution_count": 4,
     "metadata": {},
     "output_type": "execute_result"
    }
   ],
   "source": [
    "# Execute seu código neste célula, ou em diferentes células, como julgar que ficar \n",
    "# mais organizado.\n",
    "\n",
    "from sklearn.datasets.samples_generator import make_blobs\n",
    "\n",
    "X, y = make_blobs(n_samples=100, centers=3, n_features=10, random_state=0)\n",
    "\n",
    "X[1, :] # As features do primeiro elemento\n",
    "y[0] # A qual cluster ele pertence"
   ]
  },
  {
   "cell_type": "markdown",
   "metadata": {},
   "source": [
    "**Após a construção do seu algoritmo, responda às perguntas abaixo:**\n",
    "\n",
    "**1) Quais métricas de qualidade você julgou relevantes para a análise dos seus algoritmos? Quais você não julgou relevantes? Explique.**\n",
    "\n",
    "*Nao responda aqui*\n",
    "\n",
    "**2) Que técnica de busca de hiperparâmetros você utilizou? Avalie seus resultados, e explique como a técnica funciona.**\n",
    "\n",
    "*Nao responda aqui*\n",
    "\n",
    "**3) Que técnica de validação cruzada você utilizou? Avalie seus resultados, e explique como a técnica funciona.**\n",
    "\n",
    "*Nao responda aqui*\n",
    "\n",
    "**4) De forma sucinta, resuma o processo de desenvolvimento da solução apresentada, do entendimento do problema à proposta da solução. Descreva os passos de sua análise, e como cada um te ajudou a encontrar sua solução.**\n",
    "\n",
    "*Nao responda aqui*\n"
   ]
  },
  {
   "cell_type": "code",
   "execution_count": null,
   "metadata": {},
   "outputs": [],
   "source": []
  }
 ],
 "metadata": {
  "kernelspec": {
   "display_name": "Python 3",
   "language": "python",
   "name": "python3"
  },
  "language_info": {
   "codemirror_mode": {
    "name": "ipython",
    "version": 3
   },
   "file_extension": ".py",
   "mimetype": "text/x-python",
   "name": "python",
   "nbconvert_exporter": "python",
   "pygments_lexer": "ipython3",
   "version": "3.4.3"
  }
 },
 "nbformat": 4,
 "nbformat_minor": 2
}
