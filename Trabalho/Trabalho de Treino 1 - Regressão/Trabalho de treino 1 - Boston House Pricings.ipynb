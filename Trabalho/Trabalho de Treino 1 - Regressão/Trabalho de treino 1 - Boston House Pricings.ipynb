{
 "cells": [
  {
   "cell_type": "markdown",
   "metadata": {},
   "source": [
    "**Trabalho de treino 1 - Boston House Pricings**\n",
    "\n",
    "- Total de amostras\t    506\n",
    "- Dimensionalidade:\t    13\n",
    "- Tipo das features:\t    números reais positivos\n",
    "\n",
    "O dataset de preços de casas em boston correlaciona diversas características acerca de imóveis com seus preços - e é preciso, usando **regressão** - prever preços de casas com um conjunto determinado de características. Suas features são as seguintes:\n",
    "\n",
    "    1. CRIM      Taxa de crime per capita por cidade\n",
    "    2. ZN        Proporção de lotes residenciais num raio de 25,000 pés quadrados\n",
    "    3. INDUS     Proporção  de acres para negócios que não são varejo por cidade\n",
    "    4. CHAS      Proximidade com o rio (1 se o lote toca o rio, 0 se não)\n",
    "    5. NOX       Concentração de óxidos nítricos (partes por 10 milhões)\n",
    "    6. RM        Numero médio de quartos por residência\n",
    "    7. AGE       Proporção de unidades ocupadas pelos donos construídas antes de 1940\n",
    "    8. DIS       Distância ponderada dos cinco grandes centros de trabalho de Boston\n",
    "    9. RAD       Índice de acessibilidade à estradas radiais\n",
    "    10. TAX      Razão de imposto sobre valor total da propriedade, em 10000s\n",
    "    11. PTRATIO  Razão de pupílos por professor na cidade\n",
    "    12. B        1000(Bk - 0.63)^2 onde Bk é a proporção de negros por cidade.\n",
    "    13. LSTAT    % porcentagem de status inferior da população\n",
    "    14. MEDV     Valor mediano das casas ocupadas em milhares\n",
    "    \n",
    "Faça regressões para melhor entender a relação desses dados com os preços das casas. Tire conclusões relevantes. Não é necessário analisar todas as features.\n",
    "\n",
    "**Fontes**: http://scikit-learn.org/stable/modules/generated/sklearn.datasets.load_boston.html\n",
    "https://archive.ics.uci.edu/ml/machine-learning-databases/housing/housing.names\n",
    "\n",
    "**Observação**: Gerar gráficos que expliquem e ilustrem o seu problema não é parte obrigatória da resolução do trabalho, mas é um treino bastante recomendado."
   ]
  },
  {
   "cell_type": "code",
   "execution_count": 15,
   "metadata": {},
   "outputs": [
    {
     "data": {
      "text/plain": [
       "array(['CRIM', 'ZN', 'INDUS', 'CHAS', 'NOX', 'RM', 'AGE', 'DIS', 'RAD',\n",
       "       'TAX', 'PTRATIO', 'B', 'LSTAT'], dtype='<U7')"
      ]
     },
     "execution_count": 15,
     "metadata": {},
     "output_type": "execute_result"
    }
   ],
   "source": [
    "# Execute seu código neste célula, ou em diferentes células, como julgar que ficar \n",
    "# mais organizado.\n",
    "\n",
    "from sklearn.datasets import load_boston\n",
    "\n",
    "boston = load_boston()\n",
    "boston.data[:1, :] # dados da primeira casa\n",
    "boston.data[:, :1] # dados da primeira feature\n",
    "boston.feature_names\n"
   ]
  },
  {
   "cell_type": "markdown",
   "metadata": {},
   "source": [
    "**Após a construção do seu algoritmo, responda às perguntas abaixo:**\n",
    "\n",
    "*Obs: clique duas vezes sobre o texto para habilitar edição*\n",
    "\n",
    "**1) Quais métricas de qualidade você julgou relevantes para a análise dos seus algoritmos? Quais você não julgou relevantes? Explique.**\n",
    "\n",
    "*Nao responda aqui*\n",
    "\n",
    "**2) Quais features você analisou? Quais foram as suas conclusões? Explique.**\n",
    "\n",
    "*Nao responda aqui*\n",
    "\n",
    "**3) Que técnica de validação cruzada você utilizou? Avalie seus resultados, e explique como a técnica funciona.**\n",
    "\n",
    "*Nao responda aqui*\n",
    "\n",
    "**4) De forma sucinta, resuma o processo de desenvolvimento da solução apresentada, do entendimento do problema à proposta da solução. Descreva os passos de sua análise, e como cada um te ajudou a encontrar sua solução.**\n",
    "\n",
    "*Nao responda aqui*\n"
   ]
  },
  {
   "cell_type": "code",
   "execution_count": null,
   "metadata": {},
   "outputs": [],
   "source": []
  }
 ],
 "metadata": {
  "kernelspec": {
   "display_name": "Python 3",
   "language": "python",
   "name": "python3"
  },
  "language_info": {
   "codemirror_mode": {
    "name": "ipython",
    "version": 3
   },
   "file_extension": ".py",
   "mimetype": "text/x-python",
   "name": "python",
   "nbconvert_exporter": "python",
   "pygments_lexer": "ipython3",
   "version": "3.4.3"
  }
 },
 "nbformat": 4,
 "nbformat_minor": 2
}
